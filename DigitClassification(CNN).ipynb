{
 "cells": [
  {
   "cell_type": "code",
   "execution_count": 5,
   "id": "fa5c4dcd",
   "metadata": {},
   "outputs": [],
   "source": [
    "#import necessary libraries\n",
    "\n",
    "import tensorflow as tf\n",
    "from tensorflow import keras\n",
    "import numpy as np\n",
    "import  matplotlib.pyplot as plt\n"
   ]
  },
  {
   "cell_type": "code",
   "execution_count": 11,
   "id": "d3aaef81",
   "metadata": {},
   "outputs": [],
   "source": [
    "#now we will load ourData\n",
    "from keras.datasets import mnist\n",
    "\n",
    "(X_train,Y_train),(X_test,Y_test)=mnist.load_data()"
   ]
  },
  {
   "cell_type": "code",
   "execution_count": 12,
   "id": "ebe2a077",
   "metadata": {},
   "outputs": [
    {
     "data": {
      "text/plain": [
       "(60000, 28, 28)"
      ]
     },
     "execution_count": 12,
     "metadata": {},
     "output_type": "execute_result"
    }
   ],
   "source": [
    "X_train.shape"
   ]
  },
  {
   "cell_type": "code",
   "execution_count": 13,
   "id": "60a3a906",
   "metadata": {},
   "outputs": [
    {
     "data": {
      "text/plain": [
       "(60000,)"
      ]
     },
     "execution_count": 13,
     "metadata": {},
     "output_type": "execute_result"
    }
   ],
   "source": [
    "Y_train.shape"
   ]
  },
  {
   "cell_type": "code",
   "execution_count": 14,
   "id": "17d60bff",
   "metadata": {},
   "outputs": [
    {
     "data": {
      "text/plain": [
       "array([5, 0, 4, ..., 5, 6, 8], dtype=uint8)"
      ]
     },
     "execution_count": 14,
     "metadata": {},
     "output_type": "execute_result"
    }
   ],
   "source": [
    "Y_train"
   ]
  },
  {
   "cell_type": "code",
   "execution_count": 9,
   "id": "556babc5",
   "metadata": {},
   "outputs": [
    {
     "data": {
      "text/plain": [
       "<matplotlib.image.AxesImage at 0x1648f5b10>"
      ]
     },
     "execution_count": 9,
     "metadata": {},
     "output_type": "execute_result"
    },
    {
     "data": {
      "image/png": "[encoded data removed]",
      "text/plain": [
       "<Figure size 640x480 with 1 Axes>"
      ]
     },
     "metadata": {},
     "output_type": "display_data"
    }
   ],
   "source": [
    "#seeing what the digits look like\n",
    "plt.imshow(X_train[0])"
   ]
  },
  {
   "cell_type": "code",
   "execution_count": 10,
   "id": "0099db06",
   "metadata": {},
   "outputs": [
    {
     "data": {
      "text/plain": [
       "array([5, 0, 4, 1, 9], dtype=uint8)"
      ]
     },
     "execution_count": 10,
     "metadata": {},
     "output_type": "execute_result"
    }
   ],
   "source": [
    "Y_train[:5]"
   ]
  },
  {
   "cell_type": "code",
   "execution_count": 17,
   "id": "90c4fa3e",
   "metadata": {},
   "outputs": [],
   "source": [
    "#swe will one-hot-encode our target variable\n",
    "\n",
    "from keras.utils import to_categorical\n",
    "Y_train=to_categorical(Y_train)\n",
    "Y_test=to_categorical(Y_test)"
   ]
  },
  {
   "cell_type": "code",
   "execution_count": 18,
   "id": "c699c768",
   "metadata": {},
   "outputs": [
    {
     "data": {
      "text/plain": [
       "array([0., 0., 0., 0., 0., 1., 0., 0., 0., 0.], dtype=float32)"
      ]
     },
     "execution_count": 18,
     "metadata": {},
     "output_type": "execute_result"
    }
   ],
   "source": [
    "Y_train[0]   #since 6th position(0,1,2,3,4,5) is \"1\"\n",
    "               #it represent the digit 5"
   ]
  },
  {
   "cell_type": "code",
   "execution_count": 19,
   "id": "ff5465d9",
   "metadata": {},
   "outputs": [
    {
     "data": {
      "text/plain": [
       "array([[0., 0., 0., ..., 0., 0., 0.],\n",
       "       [1., 0., 0., ..., 0., 0., 0.],\n",
       "       [0., 0., 0., ..., 0., 0., 0.],\n",
       "       ...,\n",
       "       [0., 0., 0., ..., 0., 0., 0.],\n",
       "       [0., 0., 0., ..., 0., 0., 0.],\n",
       "       [0., 0., 0., ..., 0., 1., 0.]], dtype=float32)"
      ]
     },
     "execution_count": 19,
     "metadata": {},
     "output_type": "execute_result"
    }
   ],
   "source": [
    "Y_train"
   ]
  },
  {
   "cell_type": "code",
   "execution_count": 21,
   "id": "5c76e045",
   "metadata": {},
   "outputs": [],
   "source": [
    "#now we build our model\n",
    "from keras.models import Sequential\n",
    "from keras.layers import Dense,Conv2D,Flatten,MaxPool2D\n"
   ]
  },
  {
   "cell_type": "code",
   "execution_count": 47,
   "id": "99d4538c",
   "metadata": {},
   "outputs": [],
   "source": [
    "#creating the model\n",
    "model=Sequential()\n",
    "\n",
    "#adding conv layers\n",
    "\n",
    "model.add(Conv2D(20,kernel_size=9,activation='relu',input_shape=(28,28,1)))\n",
    "model.add(MaxPool2D(pool_size=2,strides=2))\n",
    "\n",
    "model.add(Conv2D(64,kernel_size=3,activation='relu',input_shape=(28,28,1)))\n",
    "model.add(MaxPool2D(pool_size=2,strides=2))\n",
    "\n",
    "model.add(Conv2D(32,kernel_size=3,activation='relu'))\n",
    "model.add(MaxPool2D(pool_size=2,strides=2))\n",
    "#flattening\n",
    "model.add(Flatten())\n",
    "\n",
    "#adding FC layer\n",
    "model.add(Dense(10,activation='softmax'))"
   ]
  },
  {
   "cell_type": "code",
   "execution_count": 48,
   "id": "c4f19769",
   "metadata": {},
   "outputs": [],
   "source": [
    "#compiling\n",
    "model.compile(optimizer='adam',loss='categorical_crossentropy',metrics=['accuracy'])"
   ]
  },
  {
   "cell_type": "code",
   "execution_count": 49,
   "id": "b418e19c",
   "metadata": {
    "scrolled": false
   },
   "outputs": [
    {
     "name": "stdout",
     "output_type": "stream",
     "text": [
      "Epoch 1/10\n",
      "1875/1875 [==============================] - 9s 5ms/step - loss: 0.4209 - accuracy: 0.9157\n",
      "Epoch 2/10\n",
      "1875/1875 [==============================] - 9s 5ms/step - loss: 0.0998 - accuracy: 0.9710\n",
      "Epoch 3/10\n",
      "1875/1875 [==============================] - 8s 5ms/step - loss: 0.0857 - accuracy: 0.9757\n",
      "Epoch 4/10\n",
      "1875/1875 [==============================] - 8s 4ms/step - loss: 0.0753 - accuracy: 0.9787\n",
      "Epoch 5/10\n",
      "1875/1875 [==============================] - 8s 4ms/step - loss: 0.0687 - accuracy: 0.9806\n",
      "Epoch 6/10\n",
      "1875/1875 [==============================] - 8s 5ms/step - loss: 0.0633 - accuracy: 0.9823\n",
      "Epoch 7/10\n",
      "1875/1875 [==============================] - 8s 5ms/step - loss: 0.0572 - accuracy: 0.9842\n",
      "Epoch 8/10\n",
      "1875/1875 [==============================] - 8s 5ms/step - loss: 0.0516 - accuracy: 0.9854\n",
      "Epoch 9/10\n",
      "1875/1875 [==============================] - 9s 5ms/step - loss: 0.0492 - accuracy: 0.9860\n",
      "Epoch 10/10\n",
      "1875/1875 [==============================] - 8s 5ms/step - loss: 0.0459 - accuracy: 0.9872\n"
     ]
    },
    {
     "data": {
      "text/plain": [
       "<keras.src.callbacks.History at 0x16d5603d0>"
      ]
     },
     "execution_count": 49,
     "metadata": {},
     "output_type": "execute_result"
    }
   ],
   "source": [
    "#fitting the model\n",
    "model.fit(X_train,Y_train,epochs=10)"
   ]
  },
  {
   "cell_type": "code",
   "execution_count": 50,
   "id": "f40f4e37",
   "metadata": {},
   "outputs": [
    {
     "name": "stdout",
     "output_type": "stream",
     "text": [
      "1000/1000 [==============================] - 1s 790us/step - loss: 0.0709 - accuracy: 0.9819\n"
     ]
    },
    {
     "data": {
      "text/plain": [
       "[0.07088938355445862, 0.9818999767303467]"
      ]
     },
     "execution_count": 50,
     "metadata": {},
     "output_type": "execute_result"
    }
   ],
   "source": [
    "model.evaluate(X_test,Y_test,batch_size=10)"
   ]
  },
  {
   "cell_type": "code",
   "execution_count": 51,
   "id": "21cd80a7",
   "metadata": {},
   "outputs": [
    {
     "name": "stdout",
     "output_type": "stream",
     "text": [
      "313/313 [==============================] - 1s 1ms/step\n"
     ]
    }
   ],
   "source": [
    "#predicting\n",
    "y_pred=model.predict(X_test)"
   ]
  },
  {
   "cell_type": "code",
   "execution_count": 52,
   "id": "8a42f60a",
   "metadata": {},
   "outputs": [
    {
     "data": {
      "text/plain": [
       "array([1., 0., 0., 0., 0., 0., 0., 0., 0., 0.], dtype=float32)"
      ]
     },
     "execution_count": 52,
     "metadata": {},
     "output_type": "execute_result"
    }
   ],
   "source": [
    "#digit at 4th position\n",
    "Y_test[3]"
   ]
  },
  {
   "cell_type": "code",
   "execution_count": 53,
   "id": "5dc384c3",
   "metadata": {},
   "outputs": [
    {
     "data": {
      "text/plain": [
       "<matplotlib.image.AxesImage at 0x16dc9f1f0>"
      ]
     },
     "execution_count": 53,
     "metadata": {},
     "output_type": "execute_result"
    },
    {
     "data": {
      "image/png": "[encoded data removed]",
      "text/plain": [
       "<Figure size 640x480 with 1 Axes>"
      ]
     },
     "metadata": {},
     "output_type": "display_data"
    }
   ],
   "source": [
    "plt.imshow(X_test[3])"
   ]
  },
  {
   "cell_type": "code",
   "execution_count": 54,
   "id": "80db57ef",
   "metadata": {},
   "outputs": [
    {
     "data": {
      "text/plain": [
       "0"
      ]
     },
     "execution_count": 54,
     "metadata": {},
     "output_type": "execute_result"
    }
   ],
   "source": [
    "#predicted digit at 4th position\n",
    "np.argmax(y_pred[3])"
   ]
  },
  {
   "cell_type": "code",
   "execution_count": 55,
   "id": "fb6547d8",
   "metadata": {},
   "outputs": [
    {
     "data": {
      "text/plain": [
       "[7, 2, 1, 0, 4]"
      ]
     },
     "execution_count": 55,
     "metadata": {},
     "output_type": "execute_result"
    }
   ],
   "source": [
    "true_value=[np.argmax(i) for i in Y_test]\n",
    "true_value[:5]"
   ]
  },
  {
   "cell_type": "code",
   "execution_count": 56,
   "id": "4bf02ef2",
   "metadata": {
    "scrolled": true
   },
   "outputs": [
    {
     "data": {
      "text/plain": [
       "[7, 2, 1, 0, 4]"
      ]
     },
     "execution_count": 56,
     "metadata": {},
     "output_type": "execute_result"
    }
   ],
   "source": [
    "pred_value=[np.argmax(i) for i in y_pred]\n",
    "pred_value[:5]"
   ]
  },
  {
   "cell_type": "code",
   "execution_count": 57,
   "id": "8c0702f9",
   "metadata": {},
   "outputs": [
    {
     "data": {
      "text/plain": [
       "<tf.Tensor: shape=(10, 10), dtype=int32, numpy=\n",
       "array([[ 971,    0,    0,    0,    0,    0,    7,    1,    0,    1],\n",
       "       [   8, 1124,    1,    2,    0,    0,    0,    0,    0,    0],\n",
       "       [   3,    3, 1001,   11,    1,    0,    3,    9,    1,    0],\n",
       "       [   0,    0,    0, 1002,    0,    5,    0,    0,    1,    2],\n",
       "       [   1,    0,    1,    0,  963,    0,    4,    3,    2,    8],\n",
       "       [   1,    1,    0,    8,    0,  871,    5,    0,    0,    6],\n",
       "       [   2,    3,    0,    0,    2,    4,  947,    0,    0,    0],\n",
       "       [   1,    2,    2,    1,    0,    1,    0, 1019,    0,    2],\n",
       "       [  11,    0,    0,    2,    2,    3,    3,    1,  941,   11],\n",
       "       [   0,    0,    0,    1,   15,    5,    0,    7,    1,  980]],\n",
       "      dtype=int32)>"
      ]
     },
     "execution_count": 57,
     "metadata": {},
     "output_type": "execute_result"
    }
   ],
   "source": [
    "#data visualisation \n",
    "cm=tf.math.confusion_matrix(true_value,pred_value)\n",
    "cm\n"
   ]
  },
  {
   "cell_type": "code",
   "execution_count": 60,
   "id": "3212c5d7",
   "metadata": {},
   "outputs": [
    {
     "data": {
      "text/plain": [
       "Text(45.722222222222214, 0.5, 'True value')"
      ]
     },
     "execution_count": 60,
     "metadata": {},
     "output_type": "execute_result"
    },
    {
     "data": {
      "image/png": "[encoded data removed]",
      "text/plain": [
       "<Figure size 600x500 with 2 Axes>"
      ]
     },
     "metadata": {},
     "output_type": "display_data"
    }
   ],
   "source": [
    "import seaborn as sb\n",
    "\n",
    "plt.figure(figsize=(6,5))\n",
    "sb. heatmap (cm, annot=True, fmt='d')\n",
    "plt.xlabel('Predicted')\n",
    "plt.ylabel(\"True value\")"
   ]
  },
  {
   "cell_type": "code",
   "execution_count": null,
   "id": "3c62ebc5",
   "metadata": {},
   "outputs": [],
   "source": []
  }
 ],
 "metadata": {
  "kernelspec": {
   "display_name": "Python 3 (ipykernel)",
   "language": "python",
   "name": "python3"
  },
  "language_info": {
   "codemirror_mode": {
    "name": "ipython",
    "version": 3
   },
   "file_extension": ".py",
   "mimetype": "text/x-python",
   "name": "python",
   "nbconvert_exporter": "python",
   "pygments_lexer": "ipython3",
   "version": "3.10.9"
  }
 },
 "nbformat": 4,
 "nbformat_minor": 5
}
